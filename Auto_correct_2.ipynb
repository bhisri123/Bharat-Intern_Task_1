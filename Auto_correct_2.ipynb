{
 "cells": [
  {
   "cell_type": "code",
   "execution_count": 18,
   "id": "8a87ce86",
   "metadata": {},
   "outputs": [
    {
     "name": "stdout",
     "output_type": "stream",
     "text": [
      "Collecting pyspellchecker\n",
      "  Downloading pyspellchecker-0.7.2-py3-none-any.whl (3.4 MB)\n",
      "                                              0.0/3.4 MB ? eta -:--:--\n",
      "     -                                        0.1/3.4 MB 6.4 MB/s eta 0:00:01\n",
      "     --                                       0.2/3.4 MB 2.6 MB/s eta 0:00:02\n",
      "     ---                                      0.3/3.4 MB 2.7 MB/s eta 0:00:02\n",
      "     -----                                    0.5/3.4 MB 3.1 MB/s eta 0:00:01\n",
      "     ------                                   0.6/3.4 MB 2.8 MB/s eta 0:00:02\n",
      "     --------                                 0.7/3.4 MB 2.8 MB/s eta 0:00:01\n",
      "     ---------                                0.8/3.4 MB 2.7 MB/s eta 0:00:01\n",
      "     -----------                              1.0/3.4 MB 2.7 MB/s eta 0:00:01\n",
      "     ------------                             1.1/3.4 MB 2.8 MB/s eta 0:00:01\n",
      "     -------------                            1.2/3.4 MB 2.6 MB/s eta 0:00:01\n",
      "     --------------                           1.2/3.4 MB 2.7 MB/s eta 0:00:01\n",
      "     ---------------                          1.3/3.4 MB 2.5 MB/s eta 0:00:01\n",
      "     ----------------                         1.4/3.4 MB 2.5 MB/s eta 0:00:01\n",
      "     -----------------                        1.5/3.4 MB 2.4 MB/s eta 0:00:01\n",
      "     ------------------                       1.6/3.4 MB 2.4 MB/s eta 0:00:01\n",
      "     -------------------                      1.6/3.4 MB 2.3 MB/s eta 0:00:01\n",
      "     --------------------                     1.8/3.4 MB 2.3 MB/s eta 0:00:01\n",
      "     ----------------------                   1.9/3.4 MB 2.4 MB/s eta 0:00:01\n",
      "     ----------------------                   1.9/3.4 MB 2.3 MB/s eta 0:00:01\n",
      "     -----------------------                  2.0/3.4 MB 2.3 MB/s eta 0:00:01\n",
      "     -----------------------                  2.0/3.4 MB 2.3 MB/s eta 0:00:01\n",
      "     -------------------------                2.2/3.4 MB 2.2 MB/s eta 0:00:01\n",
      "     ---------------------------              2.3/3.4 MB 2.3 MB/s eta 0:00:01\n",
      "     -----------------------------            2.5/3.4 MB 2.3 MB/s eta 0:00:01\n",
      "     ------------------------------           2.6/3.4 MB 2.3 MB/s eta 0:00:01\n",
      "     --------------------------------         2.8/3.4 MB 2.4 MB/s eta 0:00:01\n",
      "     ---------------------------------        2.9/3.4 MB 2.4 MB/s eta 0:00:01\n",
      "     ----------------------------------       3.0/3.4 MB 2.3 MB/s eta 0:00:01\n",
      "     -----------------------------------      3.1/3.4 MB 2.3 MB/s eta 0:00:01\n",
      "     -------------------------------------    3.2/3.4 MB 2.4 MB/s eta 0:00:01\n",
      "     ---------------------------------------  3.4/3.4 MB 2.4 MB/s eta 0:00:01\n",
      "     ---------------------------------------- 3.4/3.4 MB 2.3 MB/s eta 0:00:00\n",
      "Installing collected packages: pyspellchecker\n",
      "Successfully installed pyspellchecker-0.7.2\n",
      "Note: you may need to restart the kernel to use updated packages.\n"
     ]
    }
   ],
   "source": [
    "pip install pyspellchecker\n"
   ]
  },
  {
   "cell_type": "code",
   "execution_count": 19,
   "id": "d6050948",
   "metadata": {},
   "outputs": [],
   "source": [
    "from spellchecker import SpellChecker\n"
   ]
  },
  {
   "cell_type": "code",
   "execution_count": 20,
   "id": "ea5c9b3a",
   "metadata": {},
   "outputs": [],
   "source": [
    "def suggest_correction(word):\n",
    "    spell = SpellChecker()\n",
    "    correction = spell.correction(word)\n",
    "    return correction\n"
   ]
  },
  {
   "cell_type": "code",
   "execution_count": 37,
   "id": "9c7f6ff0",
   "metadata": {},
   "outputs": [
    {
     "name": "stdout",
     "output_type": "stream",
     "text": [
      "Suggested Correction: paint\n"
     ]
    }
   ],
   "source": [
    "misspelled_word = 'panit'\n",
    "\n",
    "correction = suggest_correction(misspelled_word)\n",
    "print(\"Suggested Correction:\", correction)\n"
   ]
  },
  {
   "cell_type": "code",
   "execution_count": null,
   "id": "4b60a1c6",
   "metadata": {},
   "outputs": [],
   "source": []
  }
 ],
 "metadata": {
  "kernelspec": {
   "display_name": "Python 3 (ipykernel)",
   "language": "python",
   "name": "python3"
  },
  "language_info": {
   "codemirror_mode": {
    "name": "ipython",
    "version": 3
   },
   "file_extension": ".py",
   "mimetype": "text/x-python",
   "name": "python",
   "nbconvert_exporter": "python",
   "pygments_lexer": "ipython3",
   "version": "3.11.2"
  }
 },
 "nbformat": 4,
 "nbformat_minor": 5
}
